{
  "nbformat": 4,
  "nbformat_minor": 0,
  "metadata": {
    "colab": {
      "provenance": []
    },
    "kernelspec": {
      "name": "python3",
      "display_name": "Python 3"
    },
    "language_info": {
      "name": "python"
    }
  },
  "cells": [
    {
      "cell_type": "code",
      "execution_count": 1,
      "metadata": {
        "id": "agQyL3dwllqA"
      },
      "outputs": [],
      "source": [
        "import pandas as pd\n",
        "import numpy as np\n",
        "import matplotlib.pyplot as plt\n",
        "import seaborn as sns\n",
        "from sklearn.model_selection import train_test_split\n",
        "from sklearn.metrics import mean_squared_error, log_loss"
      ]
    },
    {
      "cell_type": "code",
      "source": [
        "# Load the data\n",
        "from google.colab import drive\n",
        "drive.mount('/content/drive')\n",
        "data = pd.read_csv(\"/content/drive/MyDrive/Colab Notebooks/Task 3 and 4_Loan_Data.csv\")\n",
        "data.head()"
      ],
      "metadata": {
        "colab": {
          "base_uri": "https://localhost:8080/",
          "height": 244
        },
        "id": "44-61x3Nlu89",
        "outputId": "2683b5c0-0012-47fc-9276-bf1c76242a52"
      },
      "execution_count": 2,
      "outputs": [
        {
          "output_type": "stream",
          "name": "stdout",
          "text": [
            "Mounted at /content/drive\n"
          ]
        },
        {
          "output_type": "execute_result",
          "data": {
            "text/plain": [
              "   customer_id  credit_lines_outstanding  loan_amt_outstanding  \\\n",
              "0      8153374                         0           5221.545193   \n",
              "1      7442532                         5           1958.928726   \n",
              "2      2256073                         0           3363.009259   \n",
              "3      4885975                         0           4766.648001   \n",
              "4      4700614                         1           1345.827718   \n",
              "\n",
              "   total_debt_outstanding       income  years_employed  fico_score  default  \n",
              "0             3915.471226  78039.38546               5         605        0  \n",
              "1             8228.752520  26648.43525               2         572        1  \n",
              "2             2027.830850  65866.71246               4         602        0  \n",
              "3             2501.730397  74356.88347               5         612        0  \n",
              "4             1768.826187  23448.32631               6         631        0  "
            ],
            "text/html": [
              "\n",
              "  <div id=\"df-604e447a-8917-4f88-acf9-1c47d687a32c\" class=\"colab-df-container\">\n",
              "    <div>\n",
              "<style scoped>\n",
              "    .dataframe tbody tr th:only-of-type {\n",
              "        vertical-align: middle;\n",
              "    }\n",
              "\n",
              "    .dataframe tbody tr th {\n",
              "        vertical-align: top;\n",
              "    }\n",
              "\n",
              "    .dataframe thead th {\n",
              "        text-align: right;\n",
              "    }\n",
              "</style>\n",
              "<table border=\"1\" class=\"dataframe\">\n",
              "  <thead>\n",
              "    <tr style=\"text-align: right;\">\n",
              "      <th></th>\n",
              "      <th>customer_id</th>\n",
              "      <th>credit_lines_outstanding</th>\n",
              "      <th>loan_amt_outstanding</th>\n",
              "      <th>total_debt_outstanding</th>\n",
              "      <th>income</th>\n",
              "      <th>years_employed</th>\n",
              "      <th>fico_score</th>\n",
              "      <th>default</th>\n",
              "    </tr>\n",
              "  </thead>\n",
              "  <tbody>\n",
              "    <tr>\n",
              "      <th>0</th>\n",
              "      <td>8153374</td>\n",
              "      <td>0</td>\n",
              "      <td>5221.545193</td>\n",
              "      <td>3915.471226</td>\n",
              "      <td>78039.38546</td>\n",
              "      <td>5</td>\n",
              "      <td>605</td>\n",
              "      <td>0</td>\n",
              "    </tr>\n",
              "    <tr>\n",
              "      <th>1</th>\n",
              "      <td>7442532</td>\n",
              "      <td>5</td>\n",
              "      <td>1958.928726</td>\n",
              "      <td>8228.752520</td>\n",
              "      <td>26648.43525</td>\n",
              "      <td>2</td>\n",
              "      <td>572</td>\n",
              "      <td>1</td>\n",
              "    </tr>\n",
              "    <tr>\n",
              "      <th>2</th>\n",
              "      <td>2256073</td>\n",
              "      <td>0</td>\n",
              "      <td>3363.009259</td>\n",
              "      <td>2027.830850</td>\n",
              "      <td>65866.71246</td>\n",
              "      <td>4</td>\n",
              "      <td>602</td>\n",
              "      <td>0</td>\n",
              "    </tr>\n",
              "    <tr>\n",
              "      <th>3</th>\n",
              "      <td>4885975</td>\n",
              "      <td>0</td>\n",
              "      <td>4766.648001</td>\n",
              "      <td>2501.730397</td>\n",
              "      <td>74356.88347</td>\n",
              "      <td>5</td>\n",
              "      <td>612</td>\n",
              "      <td>0</td>\n",
              "    </tr>\n",
              "    <tr>\n",
              "      <th>4</th>\n",
              "      <td>4700614</td>\n",
              "      <td>1</td>\n",
              "      <td>1345.827718</td>\n",
              "      <td>1768.826187</td>\n",
              "      <td>23448.32631</td>\n",
              "      <td>6</td>\n",
              "      <td>631</td>\n",
              "      <td>0</td>\n",
              "    </tr>\n",
              "  </tbody>\n",
              "</table>\n",
              "</div>\n",
              "    <div class=\"colab-df-buttons\">\n",
              "\n",
              "  <div class=\"colab-df-container\">\n",
              "    <button class=\"colab-df-convert\" onclick=\"convertToInteractive('df-604e447a-8917-4f88-acf9-1c47d687a32c')\"\n",
              "            title=\"Convert this dataframe to an interactive table.\"\n",
              "            style=\"display:none;\">\n",
              "\n",
              "  <svg xmlns=\"http://www.w3.org/2000/svg\" height=\"24px\" viewBox=\"0 -960 960 960\">\n",
              "    <path d=\"M120-120v-720h720v720H120Zm60-500h600v-160H180v160Zm220 220h160v-160H400v160Zm0 220h160v-160H400v160ZM180-400h160v-160H180v160Zm440 0h160v-160H620v160ZM180-180h160v-160H180v160Zm440 0h160v-160H620v160Z\"/>\n",
              "  </svg>\n",
              "    </button>\n",
              "\n",
              "  <style>\n",
              "    .colab-df-container {\n",
              "      display:flex;\n",
              "      gap: 12px;\n",
              "    }\n",
              "\n",
              "    .colab-df-convert {\n",
              "      background-color: #E8F0FE;\n",
              "      border: none;\n",
              "      border-radius: 50%;\n",
              "      cursor: pointer;\n",
              "      display: none;\n",
              "      fill: #1967D2;\n",
              "      height: 32px;\n",
              "      padding: 0 0 0 0;\n",
              "      width: 32px;\n",
              "    }\n",
              "\n",
              "    .colab-df-convert:hover {\n",
              "      background-color: #E2EBFA;\n",
              "      box-shadow: 0px 1px 2px rgba(60, 64, 67, 0.3), 0px 1px 3px 1px rgba(60, 64, 67, 0.15);\n",
              "      fill: #174EA6;\n",
              "    }\n",
              "\n",
              "    .colab-df-buttons div {\n",
              "      margin-bottom: 4px;\n",
              "    }\n",
              "\n",
              "    [theme=dark] .colab-df-convert {\n",
              "      background-color: #3B4455;\n",
              "      fill: #D2E3FC;\n",
              "    }\n",
              "\n",
              "    [theme=dark] .colab-df-convert:hover {\n",
              "      background-color: #434B5C;\n",
              "      box-shadow: 0px 1px 3px 1px rgba(0, 0, 0, 0.15);\n",
              "      filter: drop-shadow(0px 1px 2px rgba(0, 0, 0, 0.3));\n",
              "      fill: #FFFFFF;\n",
              "    }\n",
              "  </style>\n",
              "\n",
              "    <script>\n",
              "      const buttonEl =\n",
              "        document.querySelector('#df-604e447a-8917-4f88-acf9-1c47d687a32c button.colab-df-convert');\n",
              "      buttonEl.style.display =\n",
              "        google.colab.kernel.accessAllowed ? 'block' : 'none';\n",
              "\n",
              "      async function convertToInteractive(key) {\n",
              "        const element = document.querySelector('#df-604e447a-8917-4f88-acf9-1c47d687a32c');\n",
              "        const dataTable =\n",
              "          await google.colab.kernel.invokeFunction('convertToInteractive',\n",
              "                                                    [key], {});\n",
              "        if (!dataTable) return;\n",
              "\n",
              "        const docLinkHtml = 'Like what you see? Visit the ' +\n",
              "          '<a target=\"_blank\" href=https://colab.research.google.com/notebooks/data_table.ipynb>data table notebook</a>'\n",
              "          + ' to learn more about interactive tables.';\n",
              "        element.innerHTML = '';\n",
              "        dataTable['output_type'] = 'display_data';\n",
              "        await google.colab.output.renderOutput(dataTable, element);\n",
              "        const docLink = document.createElement('div');\n",
              "        docLink.innerHTML = docLinkHtml;\n",
              "        element.appendChild(docLink);\n",
              "      }\n",
              "    </script>\n",
              "  </div>\n",
              "\n",
              "\n",
              "<div id=\"df-1a6df55d-b121-4b32-86f2-5702e0d3d539\">\n",
              "  <button class=\"colab-df-quickchart\" onclick=\"quickchart('df-1a6df55d-b121-4b32-86f2-5702e0d3d539')\"\n",
              "            title=\"Suggest charts\"\n",
              "            style=\"display:none;\">\n",
              "\n",
              "<svg xmlns=\"http://www.w3.org/2000/svg\" height=\"24px\"viewBox=\"0 0 24 24\"\n",
              "     width=\"24px\">\n",
              "    <g>\n",
              "        <path d=\"M19 3H5c-1.1 0-2 .9-2 2v14c0 1.1.9 2 2 2h14c1.1 0 2-.9 2-2V5c0-1.1-.9-2-2-2zM9 17H7v-7h2v7zm4 0h-2V7h2v10zm4 0h-2v-4h2v4z\"/>\n",
              "    </g>\n",
              "</svg>\n",
              "  </button>\n",
              "\n",
              "<style>\n",
              "  .colab-df-quickchart {\n",
              "      --bg-color: #E8F0FE;\n",
              "      --fill-color: #1967D2;\n",
              "      --hover-bg-color: #E2EBFA;\n",
              "      --hover-fill-color: #174EA6;\n",
              "      --disabled-fill-color: #AAA;\n",
              "      --disabled-bg-color: #DDD;\n",
              "  }\n",
              "\n",
              "  [theme=dark] .colab-df-quickchart {\n",
              "      --bg-color: #3B4455;\n",
              "      --fill-color: #D2E3FC;\n",
              "      --hover-bg-color: #434B5C;\n",
              "      --hover-fill-color: #FFFFFF;\n",
              "      --disabled-bg-color: #3B4455;\n",
              "      --disabled-fill-color: #666;\n",
              "  }\n",
              "\n",
              "  .colab-df-quickchart {\n",
              "    background-color: var(--bg-color);\n",
              "    border: none;\n",
              "    border-radius: 50%;\n",
              "    cursor: pointer;\n",
              "    display: none;\n",
              "    fill: var(--fill-color);\n",
              "    height: 32px;\n",
              "    padding: 0;\n",
              "    width: 32px;\n",
              "  }\n",
              "\n",
              "  .colab-df-quickchart:hover {\n",
              "    background-color: var(--hover-bg-color);\n",
              "    box-shadow: 0 1px 2px rgba(60, 64, 67, 0.3), 0 1px 3px 1px rgba(60, 64, 67, 0.15);\n",
              "    fill: var(--button-hover-fill-color);\n",
              "  }\n",
              "\n",
              "  .colab-df-quickchart-complete:disabled,\n",
              "  .colab-df-quickchart-complete:disabled:hover {\n",
              "    background-color: var(--disabled-bg-color);\n",
              "    fill: var(--disabled-fill-color);\n",
              "    box-shadow: none;\n",
              "  }\n",
              "\n",
              "  .colab-df-spinner {\n",
              "    border: 2px solid var(--fill-color);\n",
              "    border-color: transparent;\n",
              "    border-bottom-color: var(--fill-color);\n",
              "    animation:\n",
              "      spin 1s steps(1) infinite;\n",
              "  }\n",
              "\n",
              "  @keyframes spin {\n",
              "    0% {\n",
              "      border-color: transparent;\n",
              "      border-bottom-color: var(--fill-color);\n",
              "      border-left-color: var(--fill-color);\n",
              "    }\n",
              "    20% {\n",
              "      border-color: transparent;\n",
              "      border-left-color: var(--fill-color);\n",
              "      border-top-color: var(--fill-color);\n",
              "    }\n",
              "    30% {\n",
              "      border-color: transparent;\n",
              "      border-left-color: var(--fill-color);\n",
              "      border-top-color: var(--fill-color);\n",
              "      border-right-color: var(--fill-color);\n",
              "    }\n",
              "    40% {\n",
              "      border-color: transparent;\n",
              "      border-right-color: var(--fill-color);\n",
              "      border-top-color: var(--fill-color);\n",
              "    }\n",
              "    60% {\n",
              "      border-color: transparent;\n",
              "      border-right-color: var(--fill-color);\n",
              "    }\n",
              "    80% {\n",
              "      border-color: transparent;\n",
              "      border-right-color: var(--fill-color);\n",
              "      border-bottom-color: var(--fill-color);\n",
              "    }\n",
              "    90% {\n",
              "      border-color: transparent;\n",
              "      border-bottom-color: var(--fill-color);\n",
              "    }\n",
              "  }\n",
              "</style>\n",
              "\n",
              "  <script>\n",
              "    async function quickchart(key) {\n",
              "      const quickchartButtonEl =\n",
              "        document.querySelector('#' + key + ' button');\n",
              "      quickchartButtonEl.disabled = true;  // To prevent multiple clicks.\n",
              "      quickchartButtonEl.classList.add('colab-df-spinner');\n",
              "      try {\n",
              "        const charts = await google.colab.kernel.invokeFunction(\n",
              "            'suggestCharts', [key], {});\n",
              "      } catch (error) {\n",
              "        console.error('Error during call to suggestCharts:', error);\n",
              "      }\n",
              "      quickchartButtonEl.classList.remove('colab-df-spinner');\n",
              "      quickchartButtonEl.classList.add('colab-df-quickchart-complete');\n",
              "    }\n",
              "    (() => {\n",
              "      let quickchartButtonEl =\n",
              "        document.querySelector('#df-1a6df55d-b121-4b32-86f2-5702e0d3d539 button');\n",
              "      quickchartButtonEl.style.display =\n",
              "        google.colab.kernel.accessAllowed ? 'block' : 'none';\n",
              "    })();\n",
              "  </script>\n",
              "</div>\n",
              "    </div>\n",
              "  </div>\n"
            ],
            "application/vnd.google.colaboratory.intrinsic+json": {
              "type": "dataframe",
              "variable_name": "data",
              "summary": "{\n  \"name\": \"data\",\n  \"rows\": 10000,\n  \"fields\": [\n    {\n      \"column\": \"customer_id\",\n      \"properties\": {\n        \"dtype\": \"number\",\n        \"std\": 2293889,\n        \"min\": 1000324,\n        \"max\": 8999789,\n        \"num_unique_values\": 10000,\n        \"samples\": [\n          4625643,\n          3793909,\n          3816784\n        ],\n        \"semantic_type\": \"\",\n        \"description\": \"\"\n      }\n    },\n    {\n      \"column\": \"credit_lines_outstanding\",\n      \"properties\": {\n        \"dtype\": \"number\",\n        \"std\": 1,\n        \"min\": 0,\n        \"max\": 5,\n        \"num_unique_values\": 6,\n        \"samples\": [\n          0,\n          5,\n          3\n        ],\n        \"semantic_type\": \"\",\n        \"description\": \"\"\n      }\n    },\n    {\n      \"column\": \"loan_amt_outstanding\",\n      \"properties\": {\n        \"dtype\": \"number\",\n        \"std\": 1421.3990776378926,\n        \"min\": 46.7839734,\n        \"max\": 10750.67781,\n        \"num_unique_values\": 10000,\n        \"samples\": [\n          3584.844437,\n          5821.006507,\n          5343.193215\n        ],\n        \"semantic_type\": \"\",\n        \"description\": \"\"\n      }\n    },\n    {\n      \"column\": \"total_debt_outstanding\",\n      \"properties\": {\n        \"dtype\": \"number\",\n        \"std\": 6627.164761596831,\n        \"min\": 31.65273156,\n        \"max\": 43688.7841,\n        \"num_unique_values\": 10000,\n        \"samples\": [\n          7708.784716,\n          16345.02539,\n          30614.60303\n        ],\n        \"semantic_type\": \"\",\n        \"description\": \"\"\n      }\n    },\n    {\n      \"column\": \"income\",\n      \"properties\": {\n        \"dtype\": \"number\",\n        \"std\": 20072.214143165438,\n        \"min\": 1000.0,\n        \"max\": 148412.1805,\n        \"num_unique_values\": 9995,\n        \"samples\": [\n          81804.17266,\n          62216.69428,\n          61362.2156\n        ],\n        \"semantic_type\": \"\",\n        \"description\": \"\"\n      }\n    },\n    {\n      \"column\": \"years_employed\",\n      \"properties\": {\n        \"dtype\": \"number\",\n        \"std\": 1,\n        \"min\": 0,\n        \"max\": 10,\n        \"num_unique_values\": 11,\n        \"samples\": [\n          7,\n          5,\n          0\n        ],\n        \"semantic_type\": \"\",\n        \"description\": \"\"\n      }\n    },\n    {\n      \"column\": \"fico_score\",\n      \"properties\": {\n        \"dtype\": \"number\",\n        \"std\": 60,\n        \"min\": 408,\n        \"max\": 850,\n        \"num_unique_values\": 374,\n        \"samples\": [\n          500,\n          560,\n          644\n        ],\n        \"semantic_type\": \"\",\n        \"description\": \"\"\n      }\n    },\n    {\n      \"column\": \"default\",\n      \"properties\": {\n        \"dtype\": \"number\",\n        \"std\": 0,\n        \"min\": 0,\n        \"max\": 1,\n        \"num_unique_values\": 2,\n        \"samples\": [\n          1,\n          0\n        ],\n        \"semantic_type\": \"\",\n        \"description\": \"\"\n      }\n    }\n  ]\n}"
            }
          },
          "metadata": {},
          "execution_count": 2
        }
      ]
    },
    {
      "cell_type": "code",
      "source": [
        "# Assuming the dataset has columns 'fico_score' and 'default'\n",
        "fico_scores = data['fico_score']\n",
        "defaults = data['default']"
      ],
      "metadata": {
        "id": "unYEoreAlyzg"
      },
      "execution_count": 3,
      "outputs": []
    },
    {
      "cell_type": "code",
      "source": [
        "# Basic statistics and distribution\n",
        "print(fico_scores.describe())\n",
        "print(defaults.describe())"
      ],
      "metadata": {
        "colab": {
          "base_uri": "https://localhost:8080/"
        },
        "id": "Q1xVbzF1l656",
        "outputId": "c3c24d9a-cf42-4858-db81-0866a68534e5"
      },
      "execution_count": 4,
      "outputs": [
        {
          "output_type": "stream",
          "name": "stdout",
          "text": [
            "count    10000.000000\n",
            "mean       637.557700\n",
            "std         60.657906\n",
            "min        408.000000\n",
            "25%        597.000000\n",
            "50%        638.000000\n",
            "75%        679.000000\n",
            "max        850.000000\n",
            "Name: fico_score, dtype: float64\n",
            "count    10000.000000\n",
            "mean         0.185100\n",
            "std          0.388398\n",
            "min          0.000000\n",
            "25%          0.000000\n",
            "50%          0.000000\n",
            "75%          0.000000\n",
            "max          1.000000\n",
            "Name: default, dtype: float64\n"
          ]
        }
      ]
    },
    {
      "cell_type": "code",
      "source": [
        "# Plot the distribution of FICO scores\n",
        "plt.figure(figsize=(10, 6))\n",
        "sns.histplot(fico_scores, kde=True)\n",
        "plt.title('Distribution of FICO Scores')\n",
        "plt.xlabel('FICO Score')\n",
        "plt.ylabel('Frequency')\n",
        "plt.show()"
      ],
      "metadata": {
        "colab": {
          "base_uri": "https://localhost:8080/",
          "height": 564
        },
        "id": "loDK1nlKl7at",
        "outputId": "db9375de-7980-4c42-9005-20346f77f9aa"
      },
      "execution_count": 5,
      "outputs": [
        {
          "output_type": "display_data",
          "data": {
            "text/plain": [
              "<Figure size 1000x600 with 1 Axes>"
            ],
            "image/png": "[encoded data removed]"
          },
          "metadata": {}
        }
      ]
    },
    {
      "cell_type": "code",
      "source": [
        "# Mean square error minimization\n",
        "def quantize_mse(fico_scores, n_buckets):\n",
        "    # Calculate the bucket boundaries using quantiles\n",
        "    boundaries = np.percentile(fico_scores, np.linspace(0, 100, n_buckets + 1))\n",
        "    boundaries[-1] += 1  # Ensure the last boundary includes the max value\n",
        "\n",
        "    # Assign FICO scores to buckets\n",
        "    buckets = np.digitize(fico_scores, boundaries) - 1\n",
        "    bucket_means = [fico_scores[buckets == i].mean() for i in range(n_buckets)]\n",
        "\n",
        "    # Calculate the mean squared error\n",
        "    mse = mean_squared_error(fico_scores, [bucket_means[i] for i in buckets])\n",
        "    return boundaries, mse\n",
        "\n",
        "n_buckets = 10\n",
        "mse_boundaries, mse = quantize_mse(fico_scores, n_buckets)\n",
        "print(\"MSE Boundaries:\", mse_boundaries)\n",
        "print(\"MSE:\", mse)"
      ],
      "metadata": {
        "colab": {
          "base_uri": "https://localhost:8080/"
        },
        "id": "7tUsxhCMmHif",
        "outputId": "4a93d4da-2dc0-4373-b5b1-fc88a0b3aab8"
      },
      "execution_count": 6,
      "outputs": [
        {
          "output_type": "stream",
          "name": "stdout",
          "text": [
            "MSE Boundaries: [408. 560. 587. 607. 623. 638. 653. 670. 688. 714. 851.]\n",
            "MSE: 157.44789198655607\n"
          ]
        }
      ]
    },
    {
      "cell_type": "code",
      "source": [
        "# Log likelihood maximization\n",
        "def quantize_log_likelihood(fico_scores, defaults, n_buckets):\n",
        "    # Calculate the bucket boundaries using quantiles\n",
        "    boundaries = np.percentile(fico_scores, np.linspace(0, 100, n_buckets + 1))\n",
        "    boundaries[-1] += 1  # Ensure the last boundary includes the max value\n",
        "\n",
        "    # Assign FICO scores to buckets\n",
        "    buckets = np.digitize(fico_scores, boundaries) - 1\n",
        "    log_likelihood = 0\n",
        "\n",
        "    for i in range(n_buckets):\n",
        "        bucket_defaults = defaults[buckets == i]\n",
        "        n_i = len(bucket_defaults)\n",
        "        k_i = sum(bucket_defaults)\n",
        "        p_i = k_i / n_i if n_i > 0 else 0.0\n",
        "        if p_i > 0 and p_i < 1:\n",
        "            log_likelihood += k_i * np.log(p_i) + (n_i - k_i) * np.log(1 - p_i)\n",
        "\n",
        "    return boundaries, log_likelihood\n",
        "\n",
        "log_likelihood_boundaries, log_likelihood = quantize_log_likelihood(fico_scores, defaults, n_buckets)\n",
        "print(\"Log-Likelihood Boundaries:\", log_likelihood_boundaries)\n",
        "print(\"Log-Likelihood:\", log_likelihood)"
      ],
      "metadata": {
        "colab": {
          "base_uri": "https://localhost:8080/"
        },
        "id": "x8zPM5_GmOYL",
        "outputId": "f0bb7f53-710a-4210-9b03-4d656e298e11"
      },
      "execution_count": 7,
      "outputs": [
        {
          "output_type": "stream",
          "name": "stdout",
          "text": [
            "Log-Likelihood Boundaries: [408. 560. 587. 607. 623. 638. 653. 670. 688. 714. 851.]\n",
            "Log-Likelihood: -4267.285160839691\n"
          ]
        }
      ]
    },
    {
      "cell_type": "code",
      "source": [
        "# Visualize the bucket boundaries and default rates\n",
        "def plot_buckets(fico_scores, defaults, boundaries, title):\n",
        "    buckets = np.digitize(fico_scores, boundaries) - 1\n",
        "    bucket_data = pd.DataFrame({'bucket': buckets, 'default': defaults})\n",
        "    bucket_summary = bucket_data.groupby('bucket').agg({'default': ['mean', 'count']}).reset_index()\n",
        "    bucket_summary.columns = ['bucket', 'default_rate', 'count']\n",
        "\n",
        "    plt.figure(figsize=(12, 6))\n",
        "    sns.barplot(data=bucket_summary, x='bucket', y='default_rate', palette='rocket')\n",
        "    plt.title(title)\n",
        "    plt.xlabel('Bucket')\n",
        "    plt.ylabel('Default Rate')\n",
        "    plt.show()\n",
        "\n",
        "# Plot the results for both quantization techniques\n",
        "plot_buckets(fico_scores, defaults, mse_boundaries, 'MSE Minimization Buckets')\n",
        "plot_buckets(fico_scores, defaults, log_likelihood_boundaries, 'Log-Likelihood Maximization Buckets')"
      ],
      "metadata": {
        "colab": {
          "base_uri": "https://localhost:8080/",
          "height": 1000
        },
        "id": "XhXCqWZImbS_",
        "outputId": "ebc087f1-3d05-4095-9656-fe6867cc0932"
      },
      "execution_count": 8,
      "outputs": [
        {
          "output_type": "stream",
          "name": "stderr",
          "text": [
            "<ipython-input-8-355ebd13a833>:9: FutureWarning: \n",
            "\n",
            "Passing `palette` without assigning `hue` is deprecated and will be removed in v0.14.0. Assign the `x` variable to `hue` and set `legend=False` for the same effect.\n",
            "\n",
            "  sns.barplot(data=bucket_summary, x='bucket', y='default_rate', palette='rocket')\n"
          ]
        },
        {
          "output_type": "display_data",
          "data": {
            "text/plain": [
              "<Figure size 1200x600 with 1 Axes>"
            ],
            "image/png": "[encoded data removed]"
          },
          "metadata": {}
        },
        {
          "output_type": "stream",
          "name": "stderr",
          "text": [
            "<ipython-input-8-355ebd13a833>:9: FutureWarning: \n",
            "\n",
            "Passing `palette` without assigning `hue` is deprecated and will be removed in v0.14.0. Assign the `x` variable to `hue` and set `legend=False` for the same effect.\n",
            "\n",
            "  sns.barplot(data=bucket_summary, x='bucket', y='default_rate', palette='rocket')\n"
          ]
        },
        {
          "output_type": "display_data",
          "data": {
            "text/plain": [
              "<Figure size 1200x600 with 1 Axes>"
            ],
            "image/png": "[encoded data removed]"
          },
          "metadata": {}
        }
      ]
    },
    {
      "cell_type": "code",
      "source": [],
      "metadata": {
        "id": "bsHTnA8TmIwu"
      },
      "execution_count": null,
      "outputs": []
    }
  ]
}